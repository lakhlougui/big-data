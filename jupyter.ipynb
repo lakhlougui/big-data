{
 "cells": [
  {
   "cell_type": "markdown",
   "id": "540846c2",
   "metadata": {},
   "source": [
    "# Notebook Title"
   ]
  },
  {
   "cell_type": "markdown",
   "id": "6af9bb6b",
   "metadata": {},
   "source": [
    "# Introduction\n",
    "Welcome to my Data Science Notebook! In this notebook, we will explore various data science concepts and perform some calculations using Python."
   ]
  },
  {
   "cell_type": "markdown",
   "id": "53848d35",
   "metadata": {},
   "source": [
    "# Data Science Languages\n",
    "- Python\n",
    "- R\n",
    "- SQL\n"
   ]
  },
  {
   "cell_type": "markdown",
   "id": "d6d407e4",
   "metadata": {},
   "source": [
    "# Data Science Libraries\n",
    "- NumPy\n",
    "- Pandas\n",
    "- Matplotlib\n"
   ]
  },
  {
   "cell_type": "markdown",
   "id": "e7d64e0f",
   "metadata": {},
   "source": [
    "# Data Science Tools Table\n",
    "| Tool        | Description           |\n",
    "|-------------|-----------------------|\n",
    "| Jupyter     | Interactive notebooks |\n",
    "| TensorFlow  | Deep learning library |\n",
    "| Scikit-learn| Machine learning library |\n"
   ]
  },
  {
   "cell_type": "markdown",
   "id": "31393e91",
   "metadata": {},
   "source": [
    "# Arithmetic Expression Examples\n",
    "In this section, we will demonstrate some basic arithmetic operations using Python.\n"
   ]
  },
  {
   "cell_type": "code",
   "execution_count": 4,
   "id": "8b79d849",
   "metadata": {},
   "outputs": [
    {
     "name": "stdout",
     "output_type": "stream",
     "text": [
      "Multiplication Result: 15\n",
      "Addition Result: 8\n"
     ]
    }
   ],
   "source": [
    "# Multiplication\n",
    "result_multiply = 5 * 3\n",
    "print(\"Multiplication Result:\", result_multiply)\n",
    "\n",
    "# Addition\n",
    "result_add = 5 + 3\n",
    "print(\"Addition Result:\", result_add)"
   ]
  },
  {
   "cell_type": "code",
   "execution_count": 5,
   "id": "5779e176",
   "metadata": {},
   "outputs": [
    {
     "name": "stdout",
     "output_type": "stream",
     "text": [
      "120 minutes is equal to 2.0 hours.\n"
     ]
    }
   ],
   "source": [
    "# Convert Minutes to Hours\n",
    "minutes = 120\n",
    "hours = minutes / 60\n",
    "print(\"120 minutes is equal to\", hours, \"hours.\")"
   ]
  },
  {
   "cell_type": "markdown",
   "id": "8e2ab4aa",
   "metadata": {},
   "source": [
    "# Objectives\n",
    "- Learn basic markdown formatting in Jupyter Notebook.\n",
    "- Explore data science languages, libraries, and tools.\n",
    "- Practice arithmetic operations in Python.\n"
   ]
  },
  {
   "cell_type": "markdown",
   "id": "eb1e6891",
   "metadata": {},
   "source": [
    "# Author\n",
    "Author: [ossama lakhlougui]\n"
   ]
  },
  {
   "cell_type": "code",
   "execution_count": null,
   "id": "e7a011de",
   "metadata": {},
   "outputs": [],
   "source": []
  }
 ],
 "metadata": {
  "kernelspec": {
   "display_name": "Python 3 (ipykernel)",
   "language": "python",
   "name": "python3"
  },
  "language_info": {
   "codemirror_mode": {
    "name": "ipython",
    "version": 3
   },
   "file_extension": ".py",
   "mimetype": "text/x-python",
   "name": "python",
   "nbconvert_exporter": "python",
   "pygments_lexer": "ipython3",
   "version": "3.11.5"
  }
 },
 "nbformat": 4,
 "nbformat_minor": 5
}
